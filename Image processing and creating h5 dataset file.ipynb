{
 "cells": [
  {
   "cell_type": "code",
   "execution_count": 3,
   "metadata": {},
   "outputs": [],
   "source": [
    "import cv2\n",
    "from PIL import Image\n",
    "import numpy as np\n",
    "import h5py"
   ]
  },
  {
   "cell_type": "code",
   "execution_count": 2,
   "metadata": {},
   "outputs": [
    {
     "data": {
      "text/plain": [
       "'4.1.1'"
      ]
     },
     "execution_count": 2,
     "metadata": {},
     "output_type": "execute_result"
    }
   ],
   "source": [
    "cv2.__version__"
   ]
  },
  {
   "cell_type": "code",
   "execution_count": 32,
   "metadata": {},
   "outputs": [],
   "source": [
    "#path = \"val/\", 'images_val/', 'mask_val2/', 'mask_val/', \n",
    "for i in range(1,41):\n",
    "    \n",
    "    path = \"val/\"\n",
    "\n",
    "    image = cv2.imread(path + str(i) +\".jpg\")\n",
    "\n",
    "    img = np.array(image)\n",
    "    img1=img[:,:600]\n",
    "    img2= img[:,600:]\n",
    "    \n",
    "    dim = (256, 256) #(w,h)\n",
    "    resized = cv2.resize(img1, dim, interpolation=cv2.INTER_AREA)\n",
    "    cv2.imwrite('images_val/' + str(i) + '.png', resized)\n",
    "    resized = cv2.resize(img2, dim, interpolation=cv2.INTER_AREA)\n",
    "    cv2.imwrite('mask_val2/' + str(i) + '.png', resized)\n",
    "    \n",
    "    \n",
    "    #img.shape"
   ]
  },
  {
   "cell_type": "code",
   "execution_count": 39,
   "metadata": {},
   "outputs": [],
   "source": [
    "\n",
    "cv2.imshow('',img1)\n",
    "\n",
    "cv2.waitKey(0)\n",
    "cv2.destroyAllWindows()"
   ]
  },
  {
   "cell_type": "code",
   "execution_count": 33,
   "metadata": {},
   "outputs": [],
   "source": [
    "path = \"mask_val2/\"\n",
    "\n",
    "for i in range(1,41):\n",
    "    image = cv2.imread(path + str(i) +\".png\",0)\n",
    "    (thresh, im_bw) = cv2.threshold(image, 243, 255, cv2.THRESH_BINARY)\n",
    "    cv2.imwrite('mask_val/' + str(i) + '.png', im_bw)"
   ]
  },
  {
   "cell_type": "code",
   "execution_count": 34,
   "metadata": {},
   "outputs": [],
   "source": [
    "images = []\n",
    "masks = []\n",
    "for i in range(1, 41):\n",
    "    img = Image.open(\"images_val/\" + str(i) + \".png\")\n",
    "    arr = np.array(img)\n",
    "    images.append(arr)\n",
    "    img = Image.open(\"mask_val/\" + str(i) + \".png\")\n",
    "    arr = np.array(img)\n",
    "    arr = np.expand_dims(arr, -1)\n",
    "    masks.append(arr)"
   ]
  },
  {
   "cell_type": "code",
   "execution_count": 35,
   "metadata": {},
   "outputs": [
    {
     "data": {
      "text/plain": [
       "(40, 256, 256, 3)"
      ]
     },
     "execution_count": 35,
     "metadata": {},
     "output_type": "execute_result"
    }
   ],
   "source": [
    "images = np.array(images)\n",
    "masks = np.array(masks)\n",
    "images.shape"
   ]
  },
  {
   "cell_type": "code",
   "execution_count": 36,
   "metadata": {},
   "outputs": [],
   "source": [
    "with h5py.File(\"Dataset_test.h5\", 'w') as hdf:\n",
    "    hdf.create_dataset('images', data=images, compression='gzip', compression_opts=9)\n",
    "    hdf.create_dataset('masks', data=masks, compression='gzip', compression_opts=9)"
   ]
  },
  {
   "cell_type": "code",
   "execution_count": 4,
   "metadata": {},
   "outputs": [
    {
     "data": {
      "text/plain": [
       "True"
      ]
     },
     "execution_count": 4,
     "metadata": {},
     "output_type": "execute_result"
    }
   ],
   "source": [
    "img1 = cv2.imread(\"map.jpg\")\n",
    "dim = (256, 256)\n",
    "resized = cv2.resize(img1, dim, interpolation=cv2.INTER_AREA)\n",
    "cv2.imwrite('map.png', resized)"
   ]
  },
  {
   "cell_type": "code",
   "execution_count": 22,
   "metadata": {},
   "outputs": [],
   "source": [
    "image = cv2.imread(\"map0.jpg\")\n",
    "\n",
    "h= cv2.cvtColor(image, cv2.COLOR_BGR2HSV)\n",
    "lb = np.array([153,240,25])\n",
    "ub = np.array([204,200,255])\n",
    "\n",
    "mask = cv2.inRange(h, lb,ub)\n",
    "\n",
    "res = cv2.bitwise_and(image, image, mask= mask)\n"
   ]
  },
  {
   "cell_type": "code",
   "execution_count": 23,
   "metadata": {},
   "outputs": [],
   "source": [
    "cv2.imshow('mask',res)\n",
    "\n",
    "cv2.waitKey(0)\n",
    "cv2.destroyAllWindows()"
   ]
  },
  {
   "cell_type": "code",
   "execution_count": null,
   "metadata": {},
   "outputs": [],
   "source": []
  }
 ],
 "metadata": {
  "kernelspec": {
   "display_name": "Python 3 (ipykernel)",
   "language": "python",
   "name": "python3"
  },
  "language_info": {
   "codemirror_mode": {
    "name": "ipython",
    "version": 3
   },
   "file_extension": ".py",
   "mimetype": "text/x-python",
   "name": "python",
   "nbconvert_exporter": "python",
   "pygments_lexer": "ipython3",
   "version": "3.11.5"
  }
 },
 "nbformat": 4,
 "nbformat_minor": 2
}
